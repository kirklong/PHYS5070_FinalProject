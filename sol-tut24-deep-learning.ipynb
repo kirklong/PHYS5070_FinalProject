{
 "cells": [
  {
   "cell_type": "markdown",
   "id": "spectacular-settlement",
   "metadata": {
    "nbgrader": {
     "grade": false,
     "grade_id": "cell-1cf7048bdf55da2a",
     "locked": true,
     "schema_version": 3,
     "solution": false,
     "task": false
    }
   },
   "source": [
    "## Tutorial 24: Deep Learning and JAX\n",
    "\n",
    "## PHYS 5070, Spring 2021"
   ]
  },
  {
   "cell_type": "code",
   "execution_count": 1,
   "id": "asian-gross",
   "metadata": {
    "nbgrader": {
     "grade": false,
     "grade_id": "cell-20b70f4043187665",
     "locked": true,
     "schema_version": 3,
     "solution": false,
     "task": false
    }
   },
   "outputs": [],
   "source": [
    "## Common import cell!\n",
    "\n",
    "%matplotlib inline\n",
    "\n",
    "import matplotlib.pyplot as plt\n",
    "import pandas as pd\n",
    "import numpy as np\n",
    "\n",
    "import jax\n",
    "import jax.numpy as jnp"
   ]
  },
  {
   "cell_type": "markdown",
   "id": "blocked-bracelet",
   "metadata": {
    "nbgrader": {
     "grade": false,
     "grade_id": "cell-9a4d3e4a55dbb798",
     "locked": true,
     "schema_version": 3,
     "solution": false,
     "task": false
    }
   },
   "source": [
    "## T24.1 - JAX: NumPy + acceleration + autograd (+ more!)\n",
    "\n",
    "Before we get to deep learning, let's meet [the JAX module](https://jax.readthedocs.io/en/latest/) in some detail.\n",
    "\n",
    "### Part A\n",
    "\n",
    "Let's start with automatic gradients.  Consider the following simple function for the squared length of a vector $\\mathbf{x}$:\n",
    "\\\\[\n",
    "f(\\mathbf{x}) = \\sum_i x_i^2\n",
    "\\\\]\n",
    "\n",
    "We can compute the gradient of this function by hand, of course:\n",
    "\\\\[\n",
    "\\nabla_x f(\\mathbf{x}) = 2\\mathbf{x}.\n",
    "\\\\]\n",
    "\n",
    "\n",
    "The `jax.grad()` function will transform a Python function into a new function equal to the gradient.  Here's an example, which we can easily compare to the by-hand gradient:"
   ]
  },
  {
   "cell_type": "code",
   "execution_count": 3,
   "id": "divine-objective",
   "metadata": {
    "nbgrader": {
     "grade": false,
     "grade_id": "cell-e558c547dd28d523",
     "locked": true,
     "schema_version": 3,
     "solution": false,
     "task": false
    }
   },
   "outputs": [
    {
     "name": "stdout",
     "output_type": "stream",
     "text": [
      "30.0\n",
      "[2. 4. 6. 8.]\n"
     ]
    }
   ],
   "source": [
    "def sum_squares(x):\n",
    "    return jnp.sum(x**2)\n",
    "\n",
    "x_test = np.arange(1.,5.)\n",
    "print(sum_squares(x_test))\n",
    "print(jax.grad(sum_squares)(x_test))"
   ]
  },
  {
   "cell_type": "markdown",
   "id": "spectacular-civilian",
   "metadata": {
    "nbgrader": {
     "grade": false,
     "grade_id": "cell-38c66023c67ba281",
     "locked": true,
     "schema_version": 3,
     "solution": false,
     "task": false
    }
   },
   "source": [
    "Note that we must use the JAX version of the NumPy function `np.sum` - again, JAX is meant to be a \"drop-in replacement\", which means that generally we just replace `np` with `jnp` to do this.  A related function is `jax.value_and_grad()`, which returns both the value of the function as well as its gradient as a two-element tuple.  Try it out on `x_test` in the cell below."
   ]
  },
  {
   "cell_type": "code",
   "execution_count": 20,
   "id": "potential-suicide",
   "metadata": {
    "nbgrader": {
     "grade": false,
     "grade_id": "cell-21d1795c90401584",
     "locked": false,
     "schema_version": 3,
     "solution": true,
     "task": false
    }
   },
   "outputs": [
    {
     "data": {
      "text/plain": [
       "(DeviceArray(30., dtype=float32), DeviceArray([2., 4., 6., 8.], dtype=float32))"
      ]
     },
     "execution_count": 20,
     "metadata": {},
     "output_type": "execute_result"
    }
   ],
   "source": [
    "jax.value_and_grad(sum_squares)(x_test)"
   ]
  },
  {
   "cell_type": "markdown",
   "id": "inner-cherry",
   "metadata": {
    "nbgrader": {
     "grade": false,
     "grade_id": "cell-6ef9cfc66d7956c8",
     "locked": true,
     "schema_version": 3,
     "solution": false,
     "task": false
    }
   },
   "source": [
    "### Part B\n",
    "\n",
    "One of the components of JAX that works quite differently from the corresponding part of NumPy is __random number generation__.  Specifically, the way that control of the pseudo-RNG seed works is rather different.  In NumPy, if we set the seed with `np.random.seed()`, the output of any random code from that point forward is deterministic - but we don't spend any time thinking about the _state_ of the RNG, we just set the seed once.\n",
    "\n",
    "In JAX, this approach will _not_ work in general.  The reason is that JAX is designed for efficient use of computing platforms like GPUs, which carry out parallel operations.  We haven't talked much about parallel execution of code yet, but it should be clear that if we try to run two pieces of code at the same time, the state of the RNG becomes ambiguous - it depends on which part happens first.\n",
    "\n",
    "For this reason, any calls to the JAX random number generator require _explicit_ invocation of the PRNG key.  Compare the NumPy and JAX calls below to produce the same selections of random numbers:\n",
    "\n"
   ]
  },
  {
   "cell_type": "code",
   "execution_count": 21,
   "id": "tamil-efficiency",
   "metadata": {
    "nbgrader": {
     "grade": false,
     "grade_id": "cell-cc97361777224b80",
     "locked": true,
     "schema_version": 3,
     "solution": false,
     "task": false
    }
   },
   "outputs": [
    {
     "name": "stdout",
     "output_type": "stream",
     "text": [
      "None [0.0975336  0.76124972]\n",
      "[ 0 19] [0.97604656 0.5865028 ]\n"
     ]
    }
   ],
   "source": [
    "s = np.random.seed(19)\n",
    "r_np = np.random.rand(2)\n",
    "\n",
    "key = jax.random.PRNGKey(19)\n",
    "r_jax = jax.random.uniform(key, (2,))\n",
    "\n",
    "print(s, r_np)\n",
    "print(key, r_jax)"
   ]
  },
  {
   "cell_type": "markdown",
   "id": "distinct-replica",
   "metadata": {
    "nbgrader": {
     "grade": false,
     "grade_id": "cell-41b6de44739c8b99",
     "locked": true,
     "schema_version": 3,
     "solution": false,
     "task": false
    }
   },
   "source": [
    "So far, the results are the same, except that the NumPy key exists in the background as a global state, whereas we have to carry the JAX key around as a variable.  The difference comes if we want to call the RNG a _second_ time.  If we call `jax.random.uniform(key, (2,))` again, since `key` hasn't been changed since we first assigned it, we'll get exactly the same output again - probably not what we intended!\n",
    "\n",
    "We could just make a brand-new key with a new seed, but this is very inconvenient: now we have to change two seeds instead of just one if we want to get a different random result.  Seeding by hand would be especially bad if we want to run our RNG in any kind of loop.  To avoid this issue, JAX offers the `jax.random.split` method, which takes an existing key and generates new keys (two, by default) using the PRNG.  So the workflow for JAX random numbers is: every time we call the PRNG, we make sure to split the key first.\n",
    "\n",
    "Finish the cell below: __create a new array `r_jax_3`__ using `jax.random.uniform` and `jax.random.split`, to make sure it's a _different_ random array from `r_jax` and `r_jax_2`."
   ]
  },
  {
   "cell_type": "code",
   "execution_count": 22,
   "id": "prime-supervision",
   "metadata": {
    "nbgrader": {
     "grade": false,
     "grade_id": "cell-36fd5c8163c1a7ed",
     "locked": false,
     "schema_version": 3,
     "solution": true,
     "task": false
    }
   },
   "outputs": [
    {
     "name": "stdout",
     "output_type": "stream",
     "text": [
      "[0.0975336  0.76124972] [0.24693797 0.13813169]\n",
      "[0.97604656 0.5865028 ] [0.97604656 0.5865028 ] [0.40633547 0.12231553]\n"
     ]
    }
   ],
   "source": [
    "r_np_2 = np.random.rand(2)\n",
    "r_jax_2 = jax.random.uniform(key, (2,))\n",
    "\n",
    "### BEGIN SOLUTION\n",
    "key2, key3 = jax.random.split(key)\n",
    "r_jax_3 = jax.random.uniform(key2, (2,))\n",
    "### END SOLUTION\n",
    "\n",
    "print(r_np, r_np_2)\n",
    "print(r_jax, r_jax_2, r_jax_3)"
   ]
  },
  {
   "cell_type": "markdown",
   "id": "congressional-senior",
   "metadata": {
    "nbgrader": {
     "grade": false,
     "grade_id": "cell-0bd86a82470a9995",
     "locked": true,
     "schema_version": 3,
     "solution": false,
     "task": false
    }
   },
   "source": [
    "### Part C\n",
    "\n",
    "Let's finish our JAX warmup with a slightly more complete example.  Before we get to a neural network, we'll run through a much simpler machine learning problem: model regression.  Linear regression is too easy, so we'll use the simple non-linear model\n",
    "\\\\[\n",
    "f(x) = \\frac{a}{b + x^2}.\n",
    "\\\\]\n",
    "\n",
    "We'll adopt the \"model truth\" to be $a = 0.3, b = 0.5$, generate some data including Gaussian noise, and then try to fit the model and find the parameter values from the noisy data.  I've done the initial setup for you: __run the cell below__ to generate the noisy data and make a plot comparing it to the model truth curve."
   ]
  },
  {
   "cell_type": "code",
   "execution_count": 23,
   "id": "social-designation",
   "metadata": {
    "nbgrader": {
     "grade": false,
     "grade_id": "cell-7d806ae35e5869ef",
     "locked": true,
     "schema_version": 3,
     "solution": false,
     "task": false
    }
   },
   "outputs": [
    {
     "data": {
      "text/plain": [
       "[<matplotlib.lines.Line2D at 0x17c4fa0d0>]"
      ]
     },
     "execution_count": 23,
     "metadata": {},
     "output_type": "execute_result"
    },
    {
     "data": {
      "image/png": "[encoded data removed]",
      "text/plain": [
       "<Figure size 432x288 with 1 Axes>"
      ]
     },
     "metadata": {
      "needs_background": "light"
     },
     "output_type": "display_data"
    }
   ],
   "source": [
    "key = jax.random.PRNGKey(5070)\n",
    "\n",
    "def model(p, x):\n",
    "    return p[0] / (p[1] + x**2)\n",
    "\n",
    "x = np.linspace(0,1,100)\n",
    "y_truth = model([0.3, 0.5], x)\n",
    "noise = 0.01*jax.random.normal(key, (100,))\n",
    "\n",
    "y = y_truth + noise\n",
    "\n",
    "plt.scatter(x,y)\n",
    "plt.plot(x,y_truth, color='r', linestyle='--')"
   ]
  },
  {
   "cell_type": "markdown",
   "id": "interested-johnston",
   "metadata": {},
   "source": [
    "To carry out the regression, we need a cost function to minimize.  We'll use the standard least-squares method, so our cost function will be\n",
    "\n",
    "\\\\[\n",
    "C(p) = \\sum_i (y_i - f(p,x_i))^2\n",
    "\\\\]\n",
    "\n",
    "which we'll minimize over the parameter vector $p = (a,b)$.  \n",
    "\n",
    "This brings us to our next JAX topic, __JIT compilation__.  I've implemented two versions of the loss function in the cell below: one using ordinary NumPy, and one using the JAX version.  Note that the second version includes the funny-looking `@jax.jit` just above the function definition.  This is a special Python construction called a __decorator.__  It is shorthand notation for the equivalent statement\n",
    "\n",
    "```python\n",
    "def loss_jax():\n",
    "    ...\n",
    "    \n",
    "loss_jax = jax.jit(loss_jax)\n",
    "```\n",
    "\n",
    "i.e. a decorator (always denoted with the `@` symbol) applies the given method to our function in order to modify its definition.  __Run the cell below__ to load these function definitions."
   ]
  },
  {
   "cell_type": "code",
   "execution_count": 8,
   "id": "parental-forum",
   "metadata": {
    "nbgrader": {
     "grade": false,
     "grade_id": "cell-1ca2ae383dd8aaf2",
     "locked": true,
     "schema_version": 3,
     "solution": false,
     "task": false
    }
   },
   "outputs": [],
   "source": [
    "def loss_np(p, x, y):\n",
    "    return np.mean( (y - model(p, x))**2 )\n",
    "    \n",
    "@jax.jit\n",
    "def loss_jax(p, x, y):\n",
    "    return jnp.mean( (y - model(p, x))**2 )"
   ]
  },
  {
   "cell_type": "markdown",
   "id": "statutory-ancient",
   "metadata": {
    "nbgrader": {
     "grade": false,
     "grade_id": "cell-4b1ecd7eeb44ee46",
     "locked": true,
     "schema_version": 3,
     "solution": false,
     "task": false
    }
   },
   "source": [
    "Now __run the next two cells__ to see a timing comparison for calling each version of the loss function.  You should see a significant speed-up even on this modest 100-point dataset - I get about a factor of 10 improvement for the JIT-compiled version of the code!"
   ]
  },
  {
   "cell_type": "code",
   "execution_count": 10,
   "id": "unlikely-denver",
   "metadata": {
    "nbgrader": {
     "grade": false,
     "grade_id": "cell-6332b496d42a7658",
     "locked": true,
     "schema_version": 3,
     "solution": false,
     "task": false
    },
    "scrolled": false
   },
   "outputs": [
    {
     "name": "stdout",
     "output_type": "stream",
     "text": [
      "180 µs ± 4.46 µs per loop (mean ± std. dev. of 7 runs, 10000 loops each)\n"
     ]
    }
   ],
   "source": [
    "%timeit loss_np([1.,1.], x, y)"
   ]
  },
  {
   "cell_type": "code",
   "execution_count": 11,
   "id": "tribal-reason",
   "metadata": {
    "nbgrader": {
     "grade": false,
     "grade_id": "cell-b345280bea62bd21",
     "locked": true,
     "schema_version": 3,
     "solution": false,
     "task": false
    }
   },
   "outputs": [
    {
     "name": "stdout",
     "output_type": "stream",
     "text": [
      "21.1 µs ± 244 ns per loop (mean ± std. dev. of 7 runs, 10000 loops each)\n"
     ]
    }
   ],
   "source": [
    "%timeit loss_jax([1.,1.], x, y)"
   ]
  },
  {
   "cell_type": "markdown",
   "id": "continent-syntax",
   "metadata": {
    "nbgrader": {
     "grade": false,
     "grade_id": "cell-9bade211b2c603ee",
     "locked": true,
     "schema_version": 3,
     "solution": false,
     "task": false
    }
   },
   "source": [
    "Now we need an update algorithm to go with our loss function.  We'll use simple __gradient descent__: at each step, the parameters are updated according to the algorithm\n",
    "\n",
    "\\\\[\n",
    "p' = p - l \\nabla_p C(p).\n",
    "\\\\]\n",
    "\n",
    "Here $l$ is a constant called the __learning rate__, typically less than 1 - you can experiment with the value but I used $0.1$ as my default.  (The learning rate is an example of a __hyperparameter__: although the final results of your machine learning should not depend on it at all, tuning its value may lead to quicker convergence of your program.)\n",
    "\n",
    "__Implement the `update` function below__ to return the new value of `p` using gradient descent given the inputs."
   ]
  },
  {
   "cell_type": "code",
   "execution_count": 15,
   "id": "mexican-bubble",
   "metadata": {
    "nbgrader": {
     "grade": false,
     "grade_id": "cell-57ef8441295199b2",
     "locked": false,
     "schema_version": 3,
     "solution": true,
     "task": false
    }
   },
   "outputs": [],
   "source": [
    "@jax.jit\n",
    "def update(p, x, y, learn_rate=0.1):\n",
    "    ### BEGIN SOLUTION\n",
    "    return p - learn_rate * jax.grad(loss_jax)(p,x,y)\n",
    "    ### END SOLUTION"
   ]
  },
  {
   "cell_type": "markdown",
   "id": "imported-mathematics",
   "metadata": {
    "nbgrader": {
     "grade": false,
     "grade_id": "cell-101e3a0d04f75074",
     "locked": true,
     "schema_version": 3,
     "solution": false,
     "task": false
    }
   },
   "source": [
    "Now we're ready to learn!  In the interest of time, I'll give you the full implementation for this part, so you can just __run the next three cells__ and hopefully end up with estimates for $a$ and $b$ close to the model truth (0.3 and 0.5, respectively.)  The overall algorithm is something that will be repeated when we run the much more complicated deep neural network:\n",
    "\n",
    "- Set up some initial parameters for your model.\n",
    "- In a for loop, repeatedly update the parameters using an algorithm to attempt to minimize the cost function.\n",
    "- Keep track of the loss and parameter estimates vs. update number, so you can monitor convergence."
   ]
  },
  {
   "cell_type": "code",
   "execution_count": 17,
   "id": "pending-moisture",
   "metadata": {
    "scrolled": true
   },
   "outputs": [
    {
     "name": "stdout",
     "output_type": "stream",
     "text": [
      "Final parameter estimate:  [0.29846323 0.49662212]\n",
      "Final loss:  7.526761e-05\n"
     ]
    }
   ],
   "source": [
    "p0 = jnp.array([1., 1.])\n",
    "\n",
    "p_hist = [p0]\n",
    "loss_hist = []\n",
    "\n",
    "p = p0\n",
    "for _ in range(5000):\n",
    "    p = update(p, x, y)\n",
    "    p_hist.append(p)\n",
    "    loss_hist.append(loss_jax(p,x,y))\n",
    "    \n",
    "print(\"Final parameter estimate: \", p)\n",
    "print(\"Final loss: \", loss_jax(p,x,y))"
   ]
  },
  {
   "cell_type": "code",
   "execution_count": 18,
   "id": "cubic-wheat",
   "metadata": {},
   "outputs": [
    {
     "data": {
      "text/plain": [
       "[<matplotlib.lines.Line2D at 0x17c296940>]"
      ]
     },
     "execution_count": 18,
     "metadata": {},
     "output_type": "execute_result"
    },
    {
     "data": {
      "image/png": "[encoded data removed]",
      "text/plain": [
       "<Figure size 432x288 with 1 Axes>"
      ]
     },
     "metadata": {
      "needs_background": "light"
     },
     "output_type": "display_data"
    }
   ],
   "source": [
    "plt.scatter(x,y)\n",
    "plt.plot(x,model(p,x), color='orange', linestyle='--')"
   ]
  },
  {
   "cell_type": "code",
   "execution_count": 19,
   "id": "molecular-thursday",
   "metadata": {
    "scrolled": true
   },
   "outputs": [
    {
     "data": {
      "text/plain": [
       "[<matplotlib.lines.Line2D at 0x17c2cc7f0>,\n",
       " <matplotlib.lines.Line2D at 0x17c2f9610>]"
      ]
     },
     "execution_count": 19,
     "metadata": {},
     "output_type": "execute_result"
    },
    {
     "data": {
      "image/png": "[encoded data removed]",
      "text/plain": [
       "<Figure size 432x288 with 1 Axes>"
      ]
     },
     "metadata": {
      "needs_background": "light"
     },
     "output_type": "display_data"
    }
   ],
   "source": [
    "plt.plot(p_hist)"
   ]
  },
  {
   "cell_type": "markdown",
   "id": "scenic-mailman",
   "metadata": {
    "nbgrader": {
     "grade": false,
     "grade_id": "cell-6d75d73d4e0b11e2",
     "locked": true,
     "schema_version": 3,
     "solution": false,
     "task": false
    }
   },
   "source": [
    "## T24.2 - Building our own deep neural network\n",
    "\n",
    "Now let's move on to the fun part: building our own feed-forward deep neural network.  The network itself, as we discussed, can be represented as a set of weights and biases associated with each neuron and its connections.\n",
    "\n",
    "Let $m$ be the width of the previous layer, and $n$ the width of the current layer.  The output of the `i`-th neuron in the given layer is a weighted sum of the outputs from the previous layer, plus a bias term, with our activation function $\\sigma$ applied:\n",
    "\n",
    "\\\\[\n",
    "O'_i = \\sigma(\\sum_{j=1}^m w_{ij} O_j + b_i)\n",
    "\\\\]\n",
    "\n",
    "The parameters to be adjusted are the weights and the bias.  So for a given layer, we need to keep track of the 2-d tensor $w$ and the 1-d tensor (vector) $b$.\n",
    "\n",
    "To represent our entire network, then, we just need a list of length $d$, where $d$ is the depth (i.e. number of layers), and each entry in the list is a 2-component list containing $(w,b)$.\n",
    "\n",
    "We'll explicitly create a __binary classifier__, which means our final (output) layer always consists of a single neuron.  We'll use a logistic model for the associated probability, i.e.\n",
    "\n",
    "\\\\[\n",
    "p(y = 1) = \\frac{1}{1+\\exp(-w^T O)}\n",
    "\\\\]\n",
    "based on a final set of weights and the output of the previous layer (and with zero bias for the final layer.)\n",
    "\n",
    "### Part A\n",
    "\n",
    "Let's start with a function that will set up our neural network.  We'll use randomized Gaussian values for the initial weights and biases using `jax.random.normal()`.  __Finish the implementation__ of `init_binary_DNN` below.  In addition to the PRNG key, it takes a list `layer_widths` as input, which encodes the width and depth of all of the layers, input layer first.  (The output layer is implicit, i.e. `layer_widths = [3,3]` is a depth-3 neural network with one input layer of 3 neurons, one hidden layer of 3 neurons, and one output layer of 1 neuron.)\n",
    "\n",
    "_Important note:_ the input layer does NOT have any weights - its values will be taken from data, without transformation.  So only the _second_ layer and beyond will have weights associated with them.  The implicit output layer _does_ have weights associated with it, don't forget them!"
   ]
  },
  {
   "cell_type": "code",
   "execution_count": 24,
   "id": "wireless-question",
   "metadata": {
    "nbgrader": {
     "grade": false,
     "grade_id": "cell-df4d69da6943589e",
     "locked": false,
     "schema_version": 3,
     "solution": true,
     "task": false
    }
   },
   "outputs": [],
   "source": [
    "def init_binary_DNN(key, layer_widths):\n",
    "    nn = []\n",
    "    M = layer_widths[0]\n",
    "    \n",
    "    keys = jax.random.split(key, len(layer_widths))\n",
    "\n",
    "    ### BEGIN SOLUTION\n",
    "    for i in range(1,len(layer_widths)):\n",
    "        N = layer_widths[i]\n",
    "        M = layer_widths[i-1]\n",
    "\n",
    "        w_key, b_key = jax.random.split(keys[i])\n",
    "\n",
    "        w = jax.random.normal(w_key, (N,M))\n",
    "        b = jax.random.normal(b_key, (N,))\n",
    "        \n",
    "        nn.append([w,b])\n",
    "        \n",
    "    # Prepare final layer\n",
    "    w_key, b_key = jax.random.split(keys[-1])\n",
    "    w_final = jax.random.normal(w_key, (1,N))\n",
    "    b_final = jnp.array([0.])\n",
    "\n",
    "    ### END SOLUTION\n",
    "    \n",
    "    nn.append([w_final,b_final])\n",
    "        \n",
    "    return nn\n",
    "        "
   ]
  },
  {
   "cell_type": "code",
   "execution_count": 25,
   "id": "seasonal-civilization",
   "metadata": {
    "nbgrader": {
     "grade": true,
     "grade_id": "cell-63cb146a68353ca8",
     "locked": true,
     "points": 0,
     "schema_version": 3,
     "solution": false,
     "task": false
    }
   },
   "outputs": [
    {
     "name": "stdout",
     "output_type": "stream",
     "text": [
      "[[DeviceArray([[ 0.80897665,  1.4005336 ,  0.29912567],\n",
      "             [ 0.44514143, -1.2071526 , -0.7609591 ],\n",
      "             [-1.7980846 ,  0.6246169 , -0.29764697]], dtype=float32), DeviceArray([-0.61036974, -0.18488751, -1.3075838 ], dtype=float32)], [DeviceArray([[-1.1901789,  1.4655813, -0.4826649]], dtype=float32), DeviceArray([0.], dtype=float32)]]\n"
     ]
    }
   ],
   "source": [
    "key = jax.random.PRNGKey(7)\n",
    "test_nn = init_binary_DNN(key, [3,3])\n",
    "print(test_nn)\n",
    "\n",
    "# Check depth\n",
    "assert len(test_nn) == 2\n",
    "\n",
    "# Check sizes of layers\n",
    "layer_1 = test_nn[0]\n",
    "assert layer_1[0].shape == (3,3)\n",
    "assert layer_1[1].shape == (3,)\n",
    "\n",
    "layer_2 = test_nn[1]\n",
    "assert layer_2[0].shape == (1,3)\n",
    "assert layer_2[1].shape == (1,)"
   ]
  },
  {
   "cell_type": "markdown",
   "id": "direct-agreement",
   "metadata": {
    "nbgrader": {
     "grade": false,
     "grade_id": "cell-6f8e2d98913d6c3f",
     "locked": true,
     "schema_version": 3,
     "solution": false,
     "task": false
    }
   },
   "source": [
    "### Part B\n",
    "\n",
    "To actually make this a neural net, we need an activation function on top of our linear weights.  There are several common choices, as mentioned in lecture.  Although I haven't yet introduced the problem we want to solve yet, I'll select the `tanh` function layer as a simple choice and based on some experimentation that I did.  (ReLU and cousins may perform better, feel free to experiment!)\n",
    "\n",
    "Recall that the outputs of a single layer of our net can be written in the form\n",
    "\n",
    "\\\\[\n",
    "O'_i = \\sigma(\\sum_{j=1}^m w_{ij} O_j + b_i)\n",
    "\\\\]\n",
    "\n",
    "To evaluate the first term, we need to sum over a matrix-vector product.  This is easiest to think about clearly by writing out the indices and the sum explicitly, as I have done above.  However, for efficiency we want to use vectorized functions and not `for` loops.  The good news is that JAX (and also NumPy itself!) support the use of __Einstein summation notation__ with the `einsum` method.  \n",
    "\n",
    "Since this is a physics class I don't have to explain Einstein notation, we can just use it right away.  I do have to briefly explain how the notation works with NumPy, though.  Basically, we write the indices explicitly for each object in the sum, separated by commas.  Repeated indices are summed over, singular ones are not.  There are some fancier constructions that can be used to restrict the sums and e.g. extract the diagonal components of a matrix with this notation, have a look [at the documentation](https://numpy.org/doc/stable/reference/generated/numpy.einsum.html) to learn more.\n",
    "\n",
    "In the cell below, use `jnp.tanh()` with `jnp.einsum()` to implement the function above for a single layer of our neural net (which, you'll recall from part A, is a 2-tuple of the form `(w,b)`.)"
   ]
  },
  {
   "cell_type": "code",
   "execution_count": 26,
   "id": "appreciated-platform",
   "metadata": {
    "nbgrader": {
     "grade": false,
     "grade_id": "cell-ddef919578d58fb6",
     "locked": false,
     "schema_version": 3,
     "solution": true,
     "task": false
    }
   },
   "outputs": [],
   "source": [
    "def tanh_layer(layer, o):\n",
    "    ### BEGIN SOLUTION\n",
    "    return jnp.tanh(jnp.einsum('ij,j', layer[0], o) + layer[1])\n",
    "    ### END SOLUTION"
   ]
  },
  {
   "cell_type": "code",
   "execution_count": 27,
   "id": "hindu-turkish",
   "metadata": {
    "nbgrader": {
     "grade": true,
     "grade_id": "cell-5769af922873f4e9",
     "locked": true,
     "points": 0,
     "schema_version": 3,
     "solution": false,
     "task": false
    }
   },
   "outputs": [],
   "source": [
    "Ltest = tanh_layer(test_nn[0], [1,-2,1])\n",
    "assert Ltest.shape == (3,)"
   ]
  },
  {
   "cell_type": "markdown",
   "id": "elect-requirement",
   "metadata": {
    "nbgrader": {
     "grade": false,
     "grade_id": "cell-5dedd01d6ef565e3",
     "locked": true,
     "schema_version": 3,
     "solution": false,
     "task": false
    }
   },
   "source": [
    "Now we need to compose the layer transformation to act on our entire neural net, propagating from inputs to outputs.  For the output, we have a final step: the output of the final neuron is\n",
    "\n",
    "\\\\[\n",
    "p(y = 1) = \\frac{1}{1+\\exp(-w^T O)}\n",
    "\\\\]\n",
    "\n",
    "using the outputs `O` from the next-to-last layer.  Then we can take this output probability and implement the logistic cross-entropy as our loss function (this is just the negative log-likelihood for the logistic probability function, see tutorial 23.)\n",
    "\n",
    "__Implement the `propagate` function__ below, to give the output of a neural net given the net's weights and a set of inputs (a vector the same length as the neural net's first layer.)  I've given you the loss function based on `propagate` immediately afterwards.  Note that this uses the `jnp.clip()` method to keep the values of the `pred_y` variable away from exactly 0 or exactly 1, where they will cause our logarithms to blow up."
   ]
  },
  {
   "cell_type": "code",
   "execution_count": 30,
   "id": "earlier-tactics",
   "metadata": {
    "nbgrader": {
     "grade": false,
     "grade_id": "cell-661f13a90e133b9f",
     "locked": false,
     "schema_version": 3,
     "solution": true,
     "task": false
    }
   },
   "outputs": [],
   "source": [
    "def propagate(nn, inputs):\n",
    "    # Loop over all hidden layers\n",
    "    \n",
    "    ### BEGIN SOLUTION\n",
    "    \n",
    "    o = inputs\n",
    "    for layer in nn[:-1]:\n",
    "        o = tanh_layer(layer, o)\n",
    "        \n",
    "    # Final outputs as probability using logistic function\n",
    "    w, b = nn[-1]\n",
    "    return (1 /(1 + jnp.exp(-jnp.einsum('ij,j', w, o))))[0]\n",
    "\n",
    "    ### END SOLUTION\n",
    "\n",
    "def loss_CE(nn, inputs, y):\n",
    "    eps = 1e-6\n",
    "    pred_y = propagate(nn, inputs)\n",
    "    pred_y = jnp.clip(pred_y, eps, 1 - eps)\n",
    "    return -y * jnp.log(pred_y + 1e-8) - (1-y) * jnp.log(1-pred_y + 1e-8)"
   ]
  },
  {
   "cell_type": "code",
   "execution_count": 31,
   "id": "mechanical-summary",
   "metadata": {
    "nbgrader": {
     "grade": true,
     "grade_id": "cell-a3afddf2ce92195d",
     "locked": true,
     "points": 0,
     "schema_version": 3,
     "solution": false,
     "task": false
    }
   },
   "outputs": [
    {
     "name": "stdout",
     "output_type": "stream",
     "text": [
      "0.11595461\n",
      "2.1545563\n"
     ]
    }
   ],
   "source": [
    "print(propagate(test_nn, [1.,1.,1.]))\n",
    "print(loss_CE(test_nn, [1.,1.,1.], 1))"
   ]
  },
  {
   "cell_type": "markdown",
   "id": "printable-technician",
   "metadata": {
    "nbgrader": {
     "grade": false,
     "grade_id": "cell-5718d6a072b82a72",
     "locked": true,
     "schema_version": 3,
     "solution": false,
     "task": false
    }
   },
   "source": [
    "### Part C\n",
    "\n",
    "So far all of our code has been very generic.  Now we set up the details based on a specific problem, which will be phases of the 2-d Ising model.  __Run the cell below__ to import the dataset and set up some testing and training datasets.  (This dataset and some code below are taken from [http://physics.bu.edu/~pankajm/MLnotebooks.html](http://physics.bu.edu/~pankajm/MLnotebooks.html), associated with the assigned reading.)\n",
    "\n",
    "The data consist of spin configurations (up or down at each site) for a two-dimensional 40x40 grid, generated using Markov chain Monte Carlo methods.  The configurations are generated for a range of temperatures, on either side of a finite-temperature phase transition between a low-T ordered phase and a high-T disordered one.  Furthermore, a set of _labels_ are provided"
   ]
  },
  {
   "cell_type": "code",
   "execution_count": 33,
   "id": "bright-honey",
   "metadata": {
    "nbgrader": {
     "grade": false,
     "grade_id": "cell-c4dbdb3395bdc95a",
     "locked": true,
     "schema_version": 3,
     "solution": false,
     "task": false
    }
   },
   "outputs": [
    {
     "name": "stdout",
     "output_type": "stream",
     "text": [
      "(160000, 1600)\n",
      "(160000,)\n"
     ]
    }
   ],
   "source": [
    "import pickle\n",
    "data = pickle.load(open('./IsingData/Ising2DFM_reSample_L40_T=All.pkl', 'rb')) # pickle reads the file and returns the Python object (1D array, compressed bits)\n",
    "data = np.unpackbits(data).reshape(-1, 1600) # Decompress array and reshape for convenience\n",
    "data = data.astype('float')\n",
    "data[np.where(data==0)]=-1 # map 0 state to -1\n",
    "\n",
    "\n",
    "labels = pickle.load(open('./IsingData/Ising2DFM_reSample_L40_T=All_labels.pkl', 'rb'))\n",
    "labels = labels.astype('float')\n",
    "\n",
    "print(data.shape)\n",
    "print(labels.shape)\n",
    "\n",
    "def vis_ising(spin_config):\n",
    "    s = spin_config.reshape(40,40)\n",
    "    return plt.imshow(s)"
   ]
  },
  {
   "cell_type": "code",
   "execution_count": 34,
   "id": "productive-walnut",
   "metadata": {
    "nbgrader": {
     "grade": false,
     "grade_id": "cell-dc102606fb12eb96",
     "locked": true,
     "schema_version": 3,
     "solution": false,
     "task": false
    }
   },
   "outputs": [
    {
     "data": {
      "text/plain": [
       "<matplotlib.image.AxesImage at 0x17c3c6c10>"
      ]
     },
     "execution_count": 34,
     "metadata": {},
     "output_type": "execute_result"
    },
    {
     "data": {
      "image/png": "[encoded data removed]",
      "text/plain": [
       "<Figure size 432x288 with 1 Axes>"
      ]
     },
     "metadata": {
      "needs_background": "light"
     },
     "output_type": "display_data"
    }
   ],
   "source": [
    "vis_ising(data[2500])  # Ordered low-temperature phase - should be very uniform"
   ]
  },
  {
   "cell_type": "code",
   "execution_count": 35,
   "id": "enabling-cargo",
   "metadata": {
    "nbgrader": {
     "grade": false,
     "grade_id": "cell-6df90647f9abd272",
     "locked": true,
     "schema_version": 3,
     "solution": false,
     "task": false
    }
   },
   "outputs": [
    {
     "data": {
      "text/plain": [
       "<matplotlib.image.AxesImage at 0x17c42e640>"
      ]
     },
     "execution_count": 35,
     "metadata": {},
     "output_type": "execute_result"
    },
    {
     "data": {
      "image/png": "[encoded data removed]",
      "text/plain": [
       "<Figure size 432x288 with 1 Axes>"
      ]
     },
     "metadata": {
      "needs_background": "light"
     },
     "output_type": "display_data"
    }
   ],
   "source": [
    "vis_ising(data[130000])  # Disordered high-temperature phase - should be fairly random-looking"
   ]
  },
  {
   "cell_type": "code",
   "execution_count": 36,
   "id": "frequent-hands",
   "metadata": {
    "nbgrader": {
     "grade": false,
     "grade_id": "cell-9c92f18383fe1487",
     "locked": true,
     "schema_version": 3,
     "solution": false,
     "task": false
    }
   },
   "outputs": [],
   "source": [
    "from sklearn.model_selection import train_test_split\n",
    "\n",
    "def prepare_data(data, labels, test_size=0.2):\n",
    "    \n",
    "    L=40 # linear system size\n",
    "\n",
    "    # divide data into ordered, critical and disordered\n",
    "    X_ordered=data[:70000,:]\n",
    "    Y_ordered=labels[:70000]\n",
    "\n",
    "    X_critical=data[70000:100000,:]\n",
    "    Y_critical=labels[70000:100000]\n",
    "\n",
    "    X_disordered=data[100000:,:]\n",
    "    Y_disordered=labels[100000:]\n",
    "\n",
    "    # define training and test data sets\n",
    "    X=np.concatenate((X_ordered,X_disordered)) \n",
    "    Y=np.concatenate((Y_ordered,Y_disordered))\n",
    "\n",
    "    # pick random data points from ordered and disordered states to create the training and test sets\n",
    "    X_train, X_test, Y_train, Y_test = train_test_split(X, Y, test_size=test_size, train_size=1.0-test_size)\n",
    "\n",
    "    # create data sets\n",
    "    dataset = {\n",
    "        'train': (X_train, Y_train),\n",
    "        'test': (X_test, Y_test),\n",
    "        'critical': (X_critical, Y_critical),\n",
    "    }\n",
    "\n",
    "    return dataset"
   ]
  },
  {
   "cell_type": "code",
   "execution_count": 37,
   "id": "discrete-munich",
   "metadata": {
    "nbgrader": {
     "grade": false,
     "grade_id": "cell-c5f209078fac45fa",
     "locked": true,
     "schema_version": 3,
     "solution": false,
     "task": false
    }
   },
   "outputs": [],
   "source": [
    "ising_data = prepare_data(data, labels)"
   ]
  },
  {
   "cell_type": "markdown",
   "id": "killing-center",
   "metadata": {
    "nbgrader": {
     "grade": false,
     "grade_id": "cell-7c8da1f0fd26d54f",
     "locked": true,
     "schema_version": 3,
     "solution": false,
     "task": false
    }
   },
   "source": [
    "Now we'll use our prepared code above to create an Ising neural network.  I've chosen an initial network with a single hidden layer of 100 neurons: __feel free to adjust__, this is not an exact science!"
   ]
  },
  {
   "cell_type": "code",
   "execution_count": 38,
   "id": "injured-buying",
   "metadata": {},
   "outputs": [],
   "source": [
    "key = jax.random.PRNGKey(7)\n",
    "ising_nn = init_binary_DNN(key, [1600, 100])"
   ]
  },
  {
   "cell_type": "markdown",
   "id": "decimal-actress",
   "metadata": {
    "nbgrader": {
     "grade": false,
     "grade_id": "cell-6f639660d32e0481",
     "locked": true,
     "schema_version": 3,
     "solution": false,
     "task": false
    }
   },
   "source": [
    "Now, we wrote the functions above to apply to a single set of inputs at a time.  However, it will be very useful to do __batch processing__ for training our neural net; running many inputs through at once and computing an overall cost.  To do this without explicit rewriting of our code, we can use one more JAX transformation called `jax.vmap` to __vectorize__ the existing `propagate` function.  We don't have time to get into details on this, so I've simply implemented the batch version of the loss function for you in the cell below."
   ]
  },
  {
   "cell_type": "code",
   "execution_count": 39,
   "id": "absent-stereo",
   "metadata": {
    "nbgrader": {
     "grade": false,
     "grade_id": "cell-20b9ba4e2faffcb2",
     "locked": true,
     "schema_version": 3,
     "solution": false,
     "task": false
    }
   },
   "outputs": [],
   "source": [
    "batch_prop = jax.vmap(propagate, in_axes=(None,0), out_axes=0)\n",
    "\n",
    "@jax.jit\n",
    "def batch_loss(nn, inputs, y):\n",
    "    eps = 1e-6\n",
    "    pred_y = batch_prop(nn, inputs)\n",
    "    pred_y = jnp.clip(pred_y, eps, 1 - eps)\n",
    "    return np.sum(-y * jnp.log(pred_y) - (1-y) * jnp.log(1-pred_y))\n"
   ]
  },
  {
   "cell_type": "markdown",
   "id": "finnish-tribute",
   "metadata": {
    "nbgrader": {
     "grade": false,
     "grade_id": "cell-5ffd235b3bcaa5bf",
     "locked": true,
     "schema_version": 3,
     "solution": false,
     "task": false
    }
   },
   "source": [
    "Next, we need an optimizer.  Instead of doing simple gradient descent by hand (which won't be sufficient this time), we'll use one of the optimizers provided by JAX.  Then we apply an update to our neural net at each step of the optimizer based on the loss function (and its gradient.)\n",
    "\n",
    "There is a bunch of boilerplate code for this, so simply __run the cell below__ to set up the `update` function.  Feel free to adjust the optimizer parameters and even the choice of optimizers; by default the code below uses the ADAM adaptive algorithm, but you can trying the stochastic gradient descent with `optimizers.sgd` by uncommenting that line (and commenting out the ADAM line.)"
   ]
  },
  {
   "cell_type": "code",
   "execution_count": 41,
   "id": "broken-verification",
   "metadata": {},
   "outputs": [],
   "source": [
    "from jax.example_libraries import optimizers\n",
    "\n",
    "lr = 1e-6\n",
    "step_size = 1e-3\n",
    "#opt_init, opt_update, get_params = optimizers.sgd(lr)\n",
    "opt_init, opt_update, get_params = optimizers.adam(step_size)\n",
    "\n",
    "opt_state = opt_init(ising_nn)\n",
    "\n",
    "@jax.jit\n",
    "def update(nn, inputs, y, opt_state):\n",
    "    L, g = jax.value_and_grad(batch_loss)(nn, inputs, y)\n",
    "    opt_state = opt_update(0, g, opt_state)\n",
    "    return get_params(opt_state), opt_state, L\n"
   ]
  },
  {
   "cell_type": "markdown",
   "id": "isolated-button",
   "metadata": {
    "nbgrader": {
     "grade": false,
     "grade_id": "cell-0e231d6e8b5efea6",
     "locked": true,
     "schema_version": 3,
     "solution": false,
     "task": false
    }
   },
   "source": [
    "Now, we get to train our neural net!  Here are the steps:\n",
    "- Divide the training data into __batches__.  There are 104,000 samples in the training set; I used 104 samples of size 1000 as my first attempt.\n",
    "- Run a `for` loop over the batches, calling the `update` function to update your neural net at each step.\n",
    "- It's generally useful to run many times over the same training data, since this is a stochastic process.  So choose a number of __training epochs__, and run an outer loop which simply repeats the batch training process for each epoch.\n",
    "\n",
    "It's useful to keep track of the loss at the end of each epoch, to verify that your neural net is converging (the loss is decreasing.)  Looking at the individual weights won't be helpful because there are so many of them, but another good thing to keep track of is the __performance__ on both the testing and training sets; how many of the labels does your neural net get correct as it progresses?\n",
    "\n",
    "From here on out, things are up to you!  Adjust the hyperparameters, monitor things, and see how well you can do - my attempt gave about a 95% accuracy rate on the training dataset, 85% on testing and 55% on the most difficult \"critical\" set."
   ]
  },
  {
   "cell_type": "code",
   "execution_count": 313,
   "id": "elect-archives",
   "metadata": {
    "nbgrader": {
     "grade": false,
     "grade_id": "cell-10fcd03d9bb4d801",
     "locked": false,
     "schema_version": 3,
     "solution": true,
     "task": false
    },
    "scrolled": false
   },
   "outputs": [
    {
     "name": "stdout",
     "output_type": "stream",
     "text": [
      "Epoch 0: final loss 403.353515625\n",
      "Epoch 1: final loss 395.34033203125\n",
      "Epoch 2: final loss 388.0944519042969\n",
      "Epoch 3: final loss 379.5979309082031\n",
      "Epoch 4: final loss 371.0047607421875\n",
      "Epoch 5: final loss 362.9255676269531\n",
      "Epoch 6: final loss 355.5177001953125\n",
      "Epoch 7: final loss 348.7552490234375\n",
      "Epoch 8: final loss 343.0290832519531\n",
      "Epoch 9: final loss 335.9337158203125\n",
      "Epoch 10: final loss 329.92144775390625\n",
      "Epoch 11: final loss 324.61614990234375\n",
      "Epoch 12: final loss 320.0223083496094\n",
      "Epoch 13: final loss 314.8876953125\n",
      "Epoch 14: final loss 310.20703125\n",
      "Epoch 15: final loss 303.73822021484375\n",
      "Epoch 16: final loss 297.6961364746094\n",
      "Epoch 17: final loss 292.4075622558594\n",
      "Epoch 18: final loss 287.65716552734375\n",
      "Epoch 19: final loss 282.5646057128906\n",
      "Epoch 20: final loss 277.92901611328125\n",
      "Epoch 21: final loss 273.3440246582031\n",
      "Epoch 22: final loss 269.1236877441406\n",
      "Epoch 23: final loss 265.9330139160156\n",
      "Epoch 24: final loss 262.5700378417969\n",
      "Epoch 25: final loss 258.5312805175781\n",
      "Epoch 26: final loss 253.70809936523438\n",
      "Epoch 27: final loss 249.650634765625\n",
      "Epoch 28: final loss 245.88636779785156\n",
      "Epoch 29: final loss 242.0692138671875\n",
      "Epoch 30: final loss 236.9268035888672\n",
      "Epoch 31: final loss 231.0657958984375\n",
      "Epoch 32: final loss 227.07015991210938\n",
      "Epoch 33: final loss 222.3782196044922\n",
      "Epoch 34: final loss 214.77577209472656\n",
      "Epoch 35: final loss 209.68475341796875\n",
      "Epoch 36: final loss 205.70828247070312\n",
      "Epoch 37: final loss 201.09320068359375\n",
      "Epoch 38: final loss 195.58053588867188\n",
      "Epoch 39: final loss 192.2867889404297\n",
      "Epoch 40: final loss 189.16773986816406\n",
      "Epoch 41: final loss 186.4297332763672\n",
      "Epoch 42: final loss 183.5860137939453\n",
      "Epoch 43: final loss 180.58216857910156\n",
      "Epoch 44: final loss 176.08981323242188\n",
      "Epoch 45: final loss 173.2049560546875\n",
      "Epoch 46: final loss 169.94509887695312\n",
      "Epoch 47: final loss 166.98887634277344\n",
      "Epoch 48: final loss 163.3645477294922\n",
      "Epoch 49: final loss 160.53067016601562\n"
     ]
    }
   ],
   "source": [
    "loss_series = []\n",
    "for epoch_i in range(50):\n",
    "    for batch_i in range(104):\n",
    "        ising_nn, opt_state, loss = update(ising_nn, \n",
    "                                     ising_data['train'][0][1000*batch_i:1000*(batch_i+1)], \n",
    "                                     ising_data['train'][1][1000*batch_i:1000*(batch_i+1)], \n",
    "                                     opt_state)\n",
    "        loss_series.append(loss)\n",
    "    print(f\"Epoch {epoch_i}: final loss {loss}\")"
   ]
  },
  {
   "cell_type": "code",
   "execution_count": 317,
   "id": "cheap-pencil",
   "metadata": {
    "nbgrader": {
     "grade": false,
     "grade_id": "cell-5d3818819330023e",
     "locked": false,
     "schema_version": 3,
     "solution": true,
     "task": false
    }
   },
   "outputs": [
    {
     "data": {
      "text/plain": [
       "[<matplotlib.lines.Line2D at 0x7f9f70069d00>]"
      ]
     },
     "execution_count": 317,
     "metadata": {},
     "output_type": "execute_result"
    },
    {
     "data": {
      "image/png": "[encoded data removed]",
      "text/plain": [
       "<Figure size 432x288 with 1 Axes>"
      ]
     },
     "metadata": {
      "needs_background": "light"
     },
     "output_type": "display_data"
    }
   ],
   "source": [
    "plt.plot(loss_series)"
   ]
  },
  {
   "cell_type": "code",
   "execution_count": 314,
   "id": "academic-meaning",
   "metadata": {
    "nbgrader": {
     "grade": false,
     "grade_id": "cell-f6fdc30a64c3c837",
     "locked": false,
     "schema_version": 3,
     "solution": true,
     "task": false
    }
   },
   "outputs": [
    {
     "data": {
      "text/plain": [
       "(104000,)"
      ]
     },
     "execution_count": 314,
     "metadata": {},
     "output_type": "execute_result"
    }
   ],
   "source": [
    "predict_train_class = (batch_prop(ising_nn, ising_data['train'][0][0:]) > 0.5)\n",
    "predict_train_class.shape"
   ]
  },
  {
   "cell_type": "code",
   "execution_count": 315,
   "id": "first-crawford",
   "metadata": {
    "nbgrader": {
     "grade": false,
     "grade_id": "cell-21f12d4e191eb1cb",
     "locked": false,
     "schema_version": 3,
     "solution": true,
     "task": false
    }
   },
   "outputs": [
    {
     "data": {
      "text/plain": [
       "DeviceArray(0.9445865, dtype=float32)"
      ]
     },
     "execution_count": 315,
     "metadata": {},
     "output_type": "execute_result"
    }
   ],
   "source": [
    "np.sum(ising_data['train'][1].astype(bool) == predict_train_class) / len(predict_train_class)"
   ]
  },
  {
   "cell_type": "code",
   "execution_count": 316,
   "id": "occupational-charter",
   "metadata": {
    "nbgrader": {
     "grade": false,
     "grade_id": "cell-91e6112506555dd1",
     "locked": false,
     "schema_version": 3,
     "solution": true,
     "task": false
    }
   },
   "outputs": [
    {
     "data": {
      "text/plain": [
       "DeviceArray(0.8431923, dtype=float32)"
      ]
     },
     "execution_count": 316,
     "metadata": {},
     "output_type": "execute_result"
    }
   ],
   "source": [
    "predict_test_class = (batch_prop(ising_nn, ising_data['test'][0][0:]) > 0.5)\n",
    "np.sum(ising_data['test'][1].astype(bool) == predict_test_class) / len(predict_test_class)"
   ]
  },
  {
   "cell_type": "code",
   "execution_count": 319,
   "id": "cooked-hierarchy",
   "metadata": {
    "nbgrader": {
     "grade": false,
     "grade_id": "cell-09d89d65bdfda25b",
     "locked": false,
     "schema_version": 3,
     "solution": true,
     "task": false
    }
   },
   "outputs": [
    {
     "data": {
      "text/plain": [
       "DeviceArray(0.55806667, dtype=float32)"
      ]
     },
     "execution_count": 319,
     "metadata": {},
     "output_type": "execute_result"
    }
   ],
   "source": [
    "# Critical data set, which is the real challenge\n",
    "predict_test_class = (batch_prop(ising_nn, ising_data['critical'][0][0:]) > 0.5)\n",
    "np.sum(ising_data['critical'][1].astype(bool) == predict_test_class) / len(predict_test_class)"
   ]
  }
 ],
 "metadata": {
  "celltoolbar": "Create Assignment",
  "kernelspec": {
   "display_name": "Python 3 (ipykernel)",
   "language": "python",
   "name": "python3"
  },
  "language_info": {
   "codemirror_mode": {
    "name": "ipython",
    "version": 3
   },
   "file_extension": ".py",
   "mimetype": "text/x-python",
   "name": "python",
   "nbconvert_exporter": "python",
   "pygments_lexer": "ipython3",
   "version": "3.9.10"
  }
 },
 "nbformat": 4,
 "nbformat_minor": 5
}
