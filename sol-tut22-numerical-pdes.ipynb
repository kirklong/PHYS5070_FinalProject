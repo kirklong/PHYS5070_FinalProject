{
 "cells": [
  {
   "cell_type": "markdown",
   "id": "random-turkey",
   "metadata": {
    "nbgrader": {
     "grade": false,
     "grade_id": "cell-eef8adf06d9872b5",
     "locked": true,
     "schema_version": 3,
     "solution": false,
     "task": false
    }
   },
   "source": [
    "# Tutorial 22: Numerical Solution of PDEs\n",
    "\n",
    "## PHYS 5070, Spring 2022"
   ]
  },
  {
   "cell_type": "code",
   "execution_count": 3,
   "id": "genetic-intelligence",
   "metadata": {
    "nbgrader": {
     "grade": false,
     "grade_id": "cell-a37028b3cbedcfc4",
     "locked": true,
     "schema_version": 3,
     "solution": false,
     "task": false
    }
   },
   "outputs": [],
   "source": [
    "## Common import cell!\n",
    "\n",
    "%matplotlib inline\n",
    "\n",
    "import numpy as np\n",
    "import matplotlib.pyplot as plt"
   ]
  },
  {
   "cell_type": "markdown",
   "id": "foster-guard",
   "metadata": {
    "nbgrader": {
     "grade": false,
     "grade_id": "cell-77f517761fc31c82",
     "locked": true,
     "schema_version": 3,
     "solution": false,
     "task": false
    }
   },
   "source": [
    "## T22.1 - Boundary-value PDEs with over-relaxation\n",
    "\n",
    "Continuing from lecture, we'll solve the Poisson equation in CGS units in two dimensions:\n",
    "\n",
    "\\\\[\n",
    "\\frac{\\partial^2 U}{\\partial x^2} + \\frac{\\partial^2 U}{\\partial y^2} = -4\\pi \\rho(x,y).\n",
    "\\\\]\n",
    "\n",
    "The discrete version appropriate for relaxation is\n",
    "\n",
    "\\\\[\n",
    "U_{i,j} = \\pi \\Delta^2 \\rho_{i,j} + \\frac{1}{4} \\left[ U_{i,j+1} + U_{i,j-1} + U_{i+1,j} + U_{i-1,j} \\right].\n",
    "\\\\]\n",
    "\n",
    "### Part A\n",
    "\n",
    "We'll use the __over-relaxation__ method as discussed in lecture.  Once again, defining the residual $r_{i,j}$ to be the difference between the left and right-hand sides of the above equation (_careful with the sign!_), our proposed update step for each sweep through the potential field is\n",
    "\n",
    "\\\\[\n",
    "U'_{i,j} = U_{i,j} + \\omega r_{i,j}\n",
    "\\\\]\n",
    "\n",
    "with the relaxation parameter $1 < \\omega < 2$.\n",
    "\n",
    "To implement this algorithm, we need to decide on some implementation details.  We'll use a 2d NumPy array to represent $U_{i,j}$, and update the array in-place with each step.  Normally, I always tell you to avoid `for` loops when working with NumPy; in this particular case, you should use two `for` loops to sweep through `i` and `j` sequentially, so that the updated potential grid is used for the next step.\n",
    "\n",
    "Finally, we need to implement _boundary conditions_, surfaces on which the potential is held fixed.  A simple way to do this is with a mask: anywhere the `on_boundary` mask is `True`, we'll simply skip the update step.  (This only accommodates Dirichlet boundary conditions, but that's good enough for this tutorial.)\n",
    "\n",
    "__Implement the function `poisson_OR_sweep`__ in the cell below, which should return the updated $U'_{i,j}$ after a single overrelaxation sweep is applied.  Make sure you use the `on_boundary` mask so that your algorithm knows where the fixed boundaries are and doesn't try to update them.  As long as you do this (and the mask covers all four edges properly), you shouldn't run into problems with running arrays out of bounds."
   ]
  },
  {
   "cell_type": "code",
   "execution_count": 23,
   "id": "multiple-monitoring",
   "metadata": {
    "nbgrader": {
     "grade": false,
     "grade_id": "cell-d625133c60eefb5a",
     "locked": false,
     "schema_version": 3,
     "solution": true,
     "task": false
    }
   },
   "outputs": [],
   "source": [
    "def poisson_OR_sweep(U, on_boundary, Delta, omega=1.5, rho=None):\n",
    "    \"\"\"\n",
    "    Carries out a single sweep of over-relaxation to solve the \n",
    "    Poisson equation in two dimensions.\n",
    "        \n",
    "    Inputs:\n",
    "        - U: 2d NumPy array containing the potential U(x,y)\n",
    "             on a discrete grid.\n",
    "        - on_boundary: 2d NumPy array, same shape as U.\n",
    "             \"True\" for points lying on Dirichlet boundaries,\n",
    "             which should *not* be updated by the sweep.\n",
    "        - Delta: float, grid spacing used for U.\n",
    "        - omega: float, default 1.5, overrelaxation parameter\n",
    "        - rho: optional 2d NumPy array, same shape as U.\n",
    "                Discretized source charge density.\n",
    "                \n",
    "    Outputs:\n",
    "        Nothing!  U is modified in-place (mutated.)\n",
    "    \n",
    "    \"\"\"\n",
    "    \n",
    "    \n",
    "    if rho is None:\n",
    "        rho = np.zeros_like(U)\n",
    "        \n",
    "    ### BEGIN SOLUTION\n",
    "    \n",
    "    Ni = U.shape[0]\n",
    "    Nj = U.shape[1]  \n",
    "    \n",
    "    for i in range(Ni):\n",
    "        for j in range(Nj):\n",
    "            \n",
    "            if not on_boundary[i,j]:\n",
    "                r = U[i,j] - (U[i,j+1] + U[i,j-1] + U[i+1,j] + U[i-1,j]) / 4 - np.pi * Delta**2 * rho[i,j]\n",
    "                U[i,j] -= omega * r\n",
    "    ### END SOLUTION\n",
    "\n",
    "    return\n",
    "        "
   ]
  },
  {
   "cell_type": "markdown",
   "id": "cleared-ratio",
   "metadata": {
    "nbgrader": {
     "grade": false,
     "grade_id": "cell-9d84dbc3158b0430",
     "locked": true,
     "schema_version": 3,
     "solution": false,
     "task": false
    }
   },
   "source": [
    "Let's test a single step of the algorithm with a simple test case.  We'll initialize a 3x3 grid with two points in the bottom-right corner set to $U_0 = 1$.  It should be easy to see that the single point not on the boundary which is adjacent to both will be updated to $1.5 (1+1)/4 = 3/4$."
   ]
  },
  {
   "cell_type": "code",
   "execution_count": 24,
   "id": "decreased-christmas",
   "metadata": {
    "nbgrader": {
     "grade": true,
     "grade_id": "cell-fca5518b94f6b479",
     "locked": true,
     "points": 0,
     "schema_version": 3,
     "solution": false,
     "task": false
    }
   },
   "outputs": [
    {
     "name": "stdout",
     "output_type": "stream",
     "text": [
      "[[0. 0. 0. 0.]\n",
      " [0. 0. 0. 0.]\n",
      " [0. 0. 0. 1.]\n",
      " [0. 0. 1. 0.]]\n"
     ]
    }
   ],
   "source": [
    "import numpy.testing as npt\n",
    "\n",
    "U_test = np.zeros((4,4))\n",
    "U_test[2,3] = 1\n",
    "U_test[3,2] = 1\n",
    "\n",
    "# Create boundary mask\n",
    "m_test = np.ones_like(U_test)\n",
    "m_test[1:3,1:3] = 0\n",
    "\n",
    "print(U_test)\n",
    "\n",
    "poisson_OR_sweep(U_test, m_test, Delta=1)\n",
    "\n",
    "npt.assert_allclose(U_test, np.array([\n",
    "    [0,0,0,0],\n",
    "    [0,0,0,0],\n",
    "    [0,0,0.75,1],\n",
    "    [0,0,1,0],\n",
    "]))"
   ]
  },
  {
   "cell_type": "markdown",
   "id": "emerging-newport",
   "metadata": {
    "nbgrader": {
     "grade": false,
     "grade_id": "cell-5e0df843e12c4e23",
     "locked": true,
     "schema_version": 3,
     "solution": false,
     "task": false
    }
   },
   "source": [
    "### Part B\n",
    "\n",
    "Now we'll complete our algorithm by putting it in a loop.  First, we'll need a function that computes the global residual, i.e. the tensor $r_{i,j}$ across our entire grid.  I'll just give you this one:"
   ]
  },
  {
   "cell_type": "code",
   "execution_count": 25,
   "id": "rational-implementation",
   "metadata": {
    "nbgrader": {
     "grade": false,
     "grade_id": "cell-1f24e1eab9246c49",
     "locked": true,
     "schema_version": 3,
     "solution": false,
     "task": false
    }
   },
   "outputs": [],
   "source": [
    "def global_residual(U, Delta, rho=None):\n",
    "    if rho is None:\n",
    "        rho = np.zeros_like(U)\n",
    "        \n",
    "    neighbors = np.roll(U, 1, axis=0) + np.roll(U, -1, axis=0) + np.roll(U, 1, axis=1) + np.roll(U, -1, axis=1)\n",
    "    \n",
    "    return U - np.pi * Delta**2 * rho - neighbors / 4"
   ]
  },
  {
   "cell_type": "markdown",
   "id": "binding-replication",
   "metadata": {
    "nbgrader": {
     "grade": false,
     "grade_id": "cell-83d68cc80eb412ef",
     "locked": true,
     "schema_version": 3,
     "solution": false,
     "task": false
    }
   },
   "source": [
    "Instead of just stopping after a fixed number of iterations, we'll do something a little more sophisticated and set a __stopping condition__.  We'll use the global residual function above: if the _volume-averaged root mean square residual_ $\\sqrt{\\sum_{i,j} r_{ij}^2} / V$ (where $V = L^2$) on our grid is less than some given number `atol` (the _tolerance_), then we'll stop.  To avoid infinite loops, we'll also set a maximum number of allowed steps.\n",
    "\n",
    "I've given you the function to compute the global RMS residual, and the start of the Poisson solver; __finish the implementation__.  Remember, the solution should step when `atol` is reached by the residual or when `max_sweeps` is reached, whichever happens first."
   ]
  },
  {
   "cell_type": "code",
   "execution_count": 26,
   "id": "baking-recording",
   "metadata": {
    "nbgrader": {
     "grade": false,
     "grade_id": "cell-cacfa15ff02c4fcd",
     "locked": false,
     "schema_version": 3,
     "solution": true,
     "task": false
    }
   },
   "outputs": [],
   "source": [
    "def total_residual_RMS(U, on_boundary, Delta, rho):\n",
    "    # Ensure on_boundary is a mask\n",
    "    on_boundary = np.asarray(on_boundary, bool)\n",
    "    \n",
    "    rij = global_residual(U, Delta=Delta, rho=rho)\n",
    "    rij_masked = rij[~on_boundary]\n",
    "    \n",
    "    return np.sqrt(np.sum(rij_masked**2))\n",
    "    \n",
    "    \n",
    "    \n",
    "def solve_poisson_OR(U, on_boundary, Delta, omega=1.5, rho=None, atol=1e-6, max_sweeps=200):\n",
    "\n",
    "    if rho is None:\n",
    "        rho = np.zeros_like(U)\n",
    "        \n",
    "    V = U.shape[0] * U.shape[1]\n",
    "    \n",
    "    # Compute residual\n",
    "    r_tot = total_residual_RMS(U, on_boundary, Delta, rho) / V\n",
    "    n_sweeps = 0\n",
    "    \n",
    "    ### BEGIN SOLUTION\n",
    "    while (r_tot > atol) and (n_sweeps < max_sweeps):\n",
    "        poisson_OR_sweep(U, on_boundary, Delta, omega=omega, rho=rho)\n",
    "        \n",
    "        r_tot = total_residual_RMS(U, on_boundary, Delta, rho) / V\n",
    "        \n",
    "        n_sweeps += 1\n",
    "    \n",
    "    \n",
    "    ### END SOLUTION\n",
    "\n",
    "    return (r_tot, n_sweeps)"
   ]
  },
  {
   "cell_type": "markdown",
   "id": "irish-insulation",
   "metadata": {
    "nbgrader": {
     "grade": false,
     "grade_id": "cell-a8d731c818a96c4a",
     "locked": true,
     "schema_version": 3,
     "solution": false,
     "task": false
    }
   },
   "source": [
    "Let's try a trivial test case before we move on: if we have a completely grounded box ($U=0$ on all four walls), then the potential should be zero inside.  We'll start with a non-zero initial potential in the center and make sure it converges to the correct solution.  __Run the cell below__ (read carefully first!) to set up the grid, potential, and boundary mask.  I've also given you a couple of convenience functions for plotting potential and mask which you'll run below.  \n",
    "\n",
    "(The book likes 3-d wireframe plots, but I think those are hard to read - I strongly prefer contour plots where the third axis is denoted using color.  See here for more info on these sort of contour plots in Matplotlib: https://jakevdp.github.io/PythonDataScienceHandbook/04.04-density-and-contour-plots.html.)"
   ]
  },
  {
   "cell_type": "code",
   "execution_count": 27,
   "id": "seven-genome",
   "metadata": {
    "nbgrader": {
     "grade": false,
     "grade_id": "cell-e36e5affaa2110e6",
     "locked": true,
     "schema_version": 3,
     "solution": false,
     "task": false
    }
   },
   "outputs": [],
   "source": [
    "# Box size of 20\n",
    "L = 20\n",
    "x, y = np.meshgrid(np.arange(L), np.arange(L), indexing='ij')\n",
    "\n",
    "# Note: dtype argument is important since x is an int array.\n",
    "# We don't want to restrict our potential to integer values!\n",
    "U = np.zeros_like(x, dtype=np.float64)\n",
    "box_mask = np.zeros_like(U, dtype=bool)\n",
    "\n",
    "# Initialize non-zero potential in the middle\n",
    "U[8:12,8:16] = 1\n",
    "\n",
    "# Set mask to cover the four walls of the box\n",
    "box_mask[0,:] = True\n",
    "box_mask[L-1,:] = True\n",
    "box_mask[:,0] = True\n",
    "box_mask[:,L-1] = True\n",
    "\n",
    "def show_potential(x,y,U, **kwargs):\n",
    "    plt.contourf(x,y,U, **kwargs)\n",
    "    plt.colorbar()\n",
    "    ax = plt.gca()\n",
    "    ax.set_aspect(1)\n",
    "    \n",
    "def show_mask(x,y,m):\n",
    "    plt.contourf(x,y,m)\n",
    "    ax = plt.gca()\n",
    "    ax.set_aspect(1)"
   ]
  },
  {
   "cell_type": "code",
   "execution_count": 28,
   "id": "continental-particular",
   "metadata": {
    "nbgrader": {
     "grade": false,
     "grade_id": "cell-b1cfea42c30e2114",
     "locked": true,
     "schema_version": 3,
     "solution": false,
     "task": false
    }
   },
   "outputs": [
    {
     "data": {
      "image/png": "[encoded data removed]",
      "text/plain": [
       "<Figure size 432x288 with 2 Axes>"
      ]
     },
     "metadata": {
      "needs_background": "light"
     },
     "output_type": "display_data"
    }
   ],
   "source": [
    "show_potential(x,y,U)"
   ]
  },
  {
   "cell_type": "code",
   "execution_count": 29,
   "id": "lonely-belief",
   "metadata": {
    "nbgrader": {
     "grade": false,
     "grade_id": "cell-9b97fbe30d88aa58",
     "locked": true,
     "schema_version": 3,
     "solution": false,
     "task": false
    }
   },
   "outputs": [
    {
     "data": {
      "image/png": "[encoded data removed]",
      "text/plain": [
       "<Figure size 432x288 with 1 Axes>"
      ]
     },
     "metadata": {
      "needs_background": "light"
     },
     "output_type": "display_data"
    }
   ],
   "source": [
    "show_mask(x,y,box_mask)"
   ]
  },
  {
   "cell_type": "markdown",
   "id": "alpha-pocket",
   "metadata": {
    "nbgrader": {
     "grade": false,
     "grade_id": "cell-bc1b0c88476428e6",
     "locked": true,
     "schema_version": 3,
     "solution": false,
     "task": false
    }
   },
   "source": [
    "Now __run the final cell below__ to test your solution implementation - you should see in the final plot that indeed $U$ has been zeroed out everywhere in the box."
   ]
  },
  {
   "cell_type": "code",
   "execution_count": 30,
   "id": "freelance-decline",
   "metadata": {
    "nbgrader": {
     "grade": true,
     "grade_id": "cell-cabf581e13a5a926",
     "locked": true,
     "points": 0,
     "schema_version": 3,
     "solution": false,
     "task": false
    }
   },
   "outputs": [
    {
     "name": "stdout",
     "output_type": "stream",
     "text": [
      "Final RMS residual:  9.276005086006913e-09\n",
      "Number of sweeps:  110\n"
     ]
    },
    {
     "data": {
      "image/png": "[encoded data removed]",
      "text/plain": [
       "<Figure size 432x288 with 2 Axes>"
      ]
     },
     "metadata": {
      "needs_background": "light"
     },
     "output_type": "display_data"
    }
   ],
   "source": [
    "final_r, Nsweeps = solve_poisson_OR(U, box_mask, Delta=1, atol=1e-8)\n",
    "show_potential(x,y,U, levels=[0,0.2,0.4,0.6,0.8,1])\n",
    "\n",
    "print(\"Final RMS residual: \", final_r)\n",
    "print(\"Number of sweeps: \", Nsweeps)\n",
    "\n",
    "npt.assert_allclose(final_r, 0, atol=2e-8)\n",
    "\n",
    "# Check that max_sweeps works correctly\n",
    "U[8:12,8:12] = 1\n",
    "test_r, Nsweeps = solve_poisson_OR(U, box_mask, Delta=1, atol=1e-6, max_sweeps=10)\n",
    "assert abs(Nsweeps - 10) <= 1"
   ]
  },
  {
   "cell_type": "markdown",
   "id": "powered-subdivision",
   "metadata": {
    "nbgrader": {
     "grade": false,
     "grade_id": "cell-9069a583f83cbd8f",
     "locked": true,
     "schema_version": 3,
     "solution": false,
     "task": false
    }
   },
   "source": [
    "### Part C\n",
    "\n",
    "Now let's run a more non-trivial test case, borrowed from the textbook.  Once again we'll solve for the potential inside a box, but now we'll take the number of grid points to be $L=100$, once again with $\\Delta = 1$ for simplicity.  This time, three of the four walls will be held at $U=0$, but the top wall of the box at $y=L$ will be held at $U_0 = 100$ V."
   ]
  },
  {
   "cell_type": "code",
   "execution_count": 31,
   "id": "piano-personality",
   "metadata": {
    "nbgrader": {
     "grade": false,
     "grade_id": "cell-e674c550d7ae2176",
     "locked": true,
     "schema_version": 3,
     "solution": false,
     "task": false
    }
   },
   "outputs": [],
   "source": [
    "L = 100\n",
    "x, y = np.meshgrid(np.arange(L), np.arange(L), indexing='ij')"
   ]
  },
  {
   "cell_type": "markdown",
   "id": "combined-tragedy",
   "metadata": {
    "nbgrader": {
     "grade": false,
     "grade_id": "cell-1efeb08e7f0504c7",
     "locked": true,
     "schema_version": 3,
     "solution": false,
     "task": false
    }
   },
   "source": [
    "Now we'll hold the top row ($y=99$) at constant potential $U_0 = 100$ V, and all other sides 0 V, remembering to mark all boundaries with a mask.  __Finish the function below__, which should initialize `U` and the boundary mask `box_mask` (you can follow my example from part B.)"
   ]
  },
  {
   "cell_type": "code",
   "execution_count": 32,
   "id": "synthetic-leave",
   "metadata": {
    "nbgrader": {
     "grade": false,
     "grade_id": "cell-30d3af94651cfccc",
     "locked": false,
     "schema_version": 3,
     "solution": true,
     "task": false
    }
   },
   "outputs": [
    {
     "name": "stdout",
     "output_type": "stream",
     "text": [
      "247.48737341529164\n"
     ]
    },
    {
     "data": {
      "image/png": "[encoded data removed]",
      "text/plain": [
       "<Figure size 432x288 with 2 Axes>"
      ]
     },
     "metadata": {
      "needs_background": "light"
     },
     "output_type": "display_data"
    }
   ],
   "source": [
    "def setup_potential_partC(x, V0=100):\n",
    "\n",
    "    U = np.zeros_like(x, dtype=np.float64)\n",
    "    box_mask = np.zeros_like(U, dtype=bool)\n",
    "    \n",
    "    ### BEGIN SOLUTION\n",
    "    U[:,L-1] = V0\n",
    "    box_mask[0,:] = True\n",
    "    box_mask[L-1,:] = True\n",
    "    box_mask[:,0] = True\n",
    "    box_mask[:,L-1] = True\n",
    "\n",
    "    ### END SOLUTION\n",
    "    \n",
    "    return U, box_mask\n",
    "\n",
    "U, box_mask = setup_potential_partC(x)\n",
    "print(total_residual_RMS(U, box_mask, 1, None))\n",
    "show_potential(x,y,U)"
   ]
  },
  {
   "cell_type": "markdown",
   "id": "earlier-ability",
   "metadata": {
    "nbgrader": {
     "grade": false,
     "grade_id": "cell-244a0f4da2274f4a",
     "locked": true,
     "schema_version": 3,
     "solution": false,
     "task": false
    }
   },
   "source": [
    "This problem will be much harder to solve than the simple empty box we tried above.  Before we try to find a full solution, let's try to __tune our over-relaxation parameter__ $\\omega$.  In the cell below, run several test solutions of 200 sweeps, varying $\\omega$ in the range $1 < \\omega < 2$.  Make a plot of the final residual vs. $\\omega$ - we'll choose the value which gives the smallest residual for the next part.\n",
    "\n",
    "_Don't forget_ to reset the potential for each $\\omega$ that you test - remember that we're modifying $U$ in place, so if you don't reset the larger $\\omega$ values will look much better than they should as you start with the previous solution!\n",
    "\n",
    "(This cell may take a couple of minutes to run.  If it's taking too long, you can skip this step and just plug in some value between $1.5$ and $1.9$.  Avoid $\\omega \\geq 2$, which will cause severe instability for this problem and solver.)"
   ]
  },
  {
   "cell_type": "code",
   "execution_count": 33,
   "id": "narrative-annotation",
   "metadata": {
    "nbgrader": {
     "grade": false,
     "grade_id": "cell-65f93f3382ddd4c0",
     "locked": false,
     "schema_version": 3,
     "solution": true,
     "task": false
    }
   },
   "outputs": [
    {
     "data": {
      "text/plain": [
       "[<matplotlib.lines.Line2D at 0x155581100>]"
      ]
     },
     "execution_count": 33,
     "metadata": {},
     "output_type": "execute_result"
    },
    {
     "data": {
      "image/png": "[encoded data removed]",
      "text/plain": [
       "<Figure size 432x288 with 1 Axes>"
      ]
     },
     "metadata": {
      "needs_background": "light"
     },
     "output_type": "display_data"
    }
   ],
   "source": [
    "test_max = 200\n",
    "omega_range = np.linspace(1.1,1.9,5)\n",
    "resids = []\n",
    "\n",
    "for om in omega_range:\n",
    "    U, box_mask = setup_potential_partC(x)\n",
    "    test_r, _ = solve_poisson_OR(U, box_mask, Delta=1, omega=om, max_sweeps=test_max)\n",
    "    resids.append(test_r)\n",
    "    \n",
    "plt.plot(omega_range, resids)"
   ]
  },
  {
   "cell_type": "markdown",
   "id": "accepting-integration",
   "metadata": {
    "nbgrader": {
     "grade": false,
     "grade_id": "cell-444100033af88823",
     "locked": true,
     "schema_version": 3,
     "solution": false,
     "task": false
    }
   },
   "source": [
    "Now using the optimized value of $\\omega$ from your test above, __run the solver__ to find a solution for the electric potential.  You're free to adjust the `atol` and `max_sweeps` parameters; you'll probably come back here to make further adjustments from part C below."
   ]
  },
  {
   "cell_type": "code",
   "execution_count": 34,
   "id": "invalid-chinese",
   "metadata": {
    "nbgrader": {
     "grade": false,
     "grade_id": "cell-fb8202448a1118e7",
     "locked": false,
     "schema_version": 3,
     "solution": true,
     "task": false
    }
   },
   "outputs": [
    {
     "name": "stdout",
     "output_type": "stream",
     "text": [
      "Final RMS residual:  9.941539954135934e-08\n",
      "Number of sweeps:  369\n"
     ]
    },
    {
     "data": {
      "image/png": "[encoded data removed]",
      "text/plain": [
       "<Figure size 432x288 with 2 Axes>"
      ]
     },
     "metadata": {
      "needs_background": "light"
     },
     "output_type": "display_data"
    }
   ],
   "source": [
    "U, box_mask = setup_potential_partC(x, V0=100)\n",
    "\n",
    "final_r, Nsweeps = solve_poisson_OR(U, box_mask, Delta=1, omega=1.9, atol=1e-7, max_sweeps=1500)\n",
    "show_potential(x,y,U)\n",
    "\n",
    "print(\"Final RMS residual: \", final_r)\n",
    "print(\"Number of sweeps: \", Nsweeps)"
   ]
  },
  {
   "cell_type": "markdown",
   "id": "sporting-bread",
   "metadata": {
    "nbgrader": {
     "grade": false,
     "grade_id": "cell-7f257ed0b18c38a6",
     "locked": true,
     "schema_version": 3,
     "solution": false,
     "task": false
    }
   },
   "source": [
    "This is a simple enough system that there is an analytic solution for the potential as a Fourier series,\n",
    "\n",
    "\\\\[\n",
    "U(x,y) = \\sum_{n=1,3,5...}^\\infty \\frac{400}{\\pi n} \\sin \\left( \\frac{n \\pi x}{L} \\right) \\frac{\\sinh(n\\pi y/L)}{\\sinh(n\\pi)}.\n",
    "\\\\]\n",
    "\n",
    "where again $L = 100$ is the box size.  Although this is a nice closed-form solution, in practice we have to truncate the Fourier series somewhere to evaluate it numerically - and we will need a surprisingly large number of terms to get an accurate solution compared to our over-relaxation results!\n",
    "\n",
    "There is another numerical problem hidden here, which is that the $\\sinh(x)$ function grows very quickly with its argument.  The $y$-direction solution thus has an enormous cancellation between the numerator and denominator which will quickly become unstable even with double precision.  As the book points out, the best way around this is to replace the fraction with its asymptotic version when $n$ is sufficiently large:\n",
    "\n",
    "\\\\[\n",
    "\\frac{\\sinh(n\\pi y/L)}{\\sinh(n\\pi)} \\rightarrow_{n \\rightarrow \\infty} e^{n\\pi (y/L - 1)}.\n",
    "\\\\]\n",
    "\n",
    "This function is well-behaved since $0 \\leq y/L \\leq 1$.  __Implement the function `box_U_analytic()`__ in the cell below, which should return a U array (of the same form as the ones we've been using for our numerics above) keeping all terms in the Fourier series with $n < N$."
   ]
  },
  {
   "cell_type": "code",
   "execution_count": 35,
   "id": "interpreted-people",
   "metadata": {
    "nbgrader": {
     "grade": false,
     "grade_id": "cell-919edce22fe106a7",
     "locked": false,
     "schema_version": 3,
     "solution": true,
     "task": false
    }
   },
   "outputs": [],
   "source": [
    "def box_U_analytic(N, x, y, L=100):\n",
    "    U_pred = np.zeros_like(x, dtype=np.float64)\n",
    "    \n",
    "    ### BEGIN SOLUTION\n",
    "    \n",
    "    for n in np.arange(1,N,2):\n",
    "        x_term = np.sin(n * np.pi * x / L)\n",
    "        if (n < 50):\n",
    "            y_term = np.sinh(n * np.pi * y / L ) / np.sinh(n * np.pi)\n",
    "        else:\n",
    "            y_term = np.exp(n * np.pi * (y/L - 1))\n",
    "            \n",
    "        U_pred += 400 / (np.pi * n) *  x_term * y_term\n",
    "\n",
    "    ### END SOLUTION\n",
    "        \n",
    "    return U_pred"
   ]
  },
  {
   "cell_type": "markdown",
   "id": "pacific-coral",
   "metadata": {
    "nbgrader": {
     "grade": false,
     "grade_id": "cell-13efb645c86b42bd",
     "locked": true,
     "schema_version": 3,
     "solution": false,
     "task": false
    }
   },
   "source": [
    "__Run the cell below__ to plot your analytic solution; it should look similar to the final plot you ended up with above using over-relaxation.  If the plot is rotated, you may have created an array with the `x` and `y` coordinates swapped (as noted above, the NumPy row-major index conventions make this easy to do.)  If so, use `U_pred = U_pred.T` to transpose the array before you return it.\n",
    "\n",
    "Explore how large `N` needs to be in order to show good agreement with your other solution, both over the whole box and in the slices shown in the following cells.  You can go back and adjust your numerical solution's stopping conditions to try to improve the agreement."
   ]
  },
  {
   "cell_type": "code",
   "execution_count": 36,
   "id": "compatible-knock",
   "metadata": {
    "nbgrader": {
     "grade": false,
     "grade_id": "cell-8e2387f8f928a100",
     "locked": true,
     "schema_version": 3,
     "solution": false,
     "task": false
    }
   },
   "outputs": [
    {
     "data": {
      "image/png": "[encoded data removed]",
      "text/plain": [
       "<Figure size 432x288 with 2 Axes>"
      ]
     },
     "metadata": {
      "needs_background": "light"
     },
     "output_type": "display_data"
    }
   ],
   "source": [
    "U_analytic = box_U_analytic(10, x, y)\n",
    "show_potential(x,y,U_analytic)"
   ]
  },
  {
   "cell_type": "code",
   "execution_count": 37,
   "id": "alert-purchase",
   "metadata": {},
   "outputs": [
    {
     "data": {
      "text/plain": [
       "[<matplotlib.lines.Line2D at 0x1557802b0>]"
      ]
     },
     "execution_count": 37,
     "metadata": {},
     "output_type": "execute_result"
    },
    {
     "data": {
      "image/png": "[encoded data removed]",
      "text/plain": [
       "<Figure size 432x288 with 1 Axes>"
      ]
     },
     "metadata": {
      "needs_background": "light"
     },
     "output_type": "display_data"
    }
   ],
   "source": [
    "plt.plot(x[:,51], U[:,51])\n",
    "plt.plot(x[:,51], U_analytic[:,51], linestyle='--', color='k')"
   ]
  },
  {
   "cell_type": "code",
   "execution_count": 38,
   "id": "descending-claim",
   "metadata": {},
   "outputs": [
    {
     "data": {
      "text/plain": [
       "[<matplotlib.lines.Line2D at 0x15570d910>]"
      ]
     },
     "execution_count": 38,
     "metadata": {},
     "output_type": "execute_result"
    },
    {
     "data": {
      "image/png": "[encoded data removed]",
      "text/plain": [
       "<Figure size 432x288 with 1 Axes>"
      ]
     },
     "metadata": {
      "needs_background": "light"
     },
     "output_type": "display_data"
    }
   ],
   "source": [
    "plt.plot(y[21,:], U[21,:])\n",
    "plt.plot(y[21,:], U_analytic[21,:], linestyle='--', color='k')"
   ]
  },
  {
   "cell_type": "markdown",
   "id": "suspected-ceremony",
   "metadata": {
    "nbgrader": {
     "grade": false,
     "grade_id": "cell-588e9f9f7f2fa051",
     "locked": true,
     "schema_version": 3,
     "solution": false,
     "task": false
    }
   },
   "source": [
    "### Part D (optional)\n",
    "\n",
    "Since you went to the trouble of including the charge density term, let's look at one final solution.  Put a line charge with total $Q=+20$ down the center of your box (i.e. at $x=50$), and then solve for the modified potential.   You should see obvious effects from both the constant-potential boundary and from the line charge in the resulting solution plot.\n",
    "\n"
   ]
  },
  {
   "cell_type": "code",
   "execution_count": 39,
   "id": "classical-natural",
   "metadata": {
    "nbgrader": {
     "grade": false,
     "grade_id": "cell-c5103458258ce793",
     "locked": false,
     "schema_version": 3,
     "solution": true,
     "task": false
    }
   },
   "outputs": [
    {
     "name": "stdout",
     "output_type": "stream",
     "text": [
      "Final RMS residual:  9.95791326816681e-07\n",
      "Number of sweeps:  279\n"
     ]
    },
    {
     "data": {
      "image/png": "[encoded data removed]",
      "text/plain": [
       "<Figure size 432x288 with 2 Axes>"
      ]
     },
     "metadata": {
      "needs_background": "light"
     },
     "output_type": "display_data"
    }
   ],
   "source": [
    "U, box_mask = setup_potential_partC(x)\n",
    "rho_line = np.zeros_like(U)\n",
    "\n",
    "rho_line[50,:] = 20/L\n",
    "\n",
    "final_r, Nsweeps = solve_poisson_OR(U, box_mask, Delta=1, omega=1.9, atol=1e-6, max_sweeps=600, rho=rho_line)\n",
    "show_potential(x,y,U)\n",
    "\n",
    "print(\"Final RMS residual: \", final_r)\n",
    "print(\"Number of sweeps: \", Nsweeps)"
   ]
  },
  {
   "cell_type": "markdown",
   "id": "30996ef2",
   "metadata": {
    "nbgrader": {
     "grade": false,
     "grade_id": "cell-5d41c3952af9df2d",
     "locked": true,
     "schema_version": 3,
     "solution": false,
     "task": false
    }
   },
   "source": [
    "One final note: this is one of the more computationally intensive tutorials we've done, because we wrote a double `for` loop in Python for the overrelaxation sweep itself.  However, there are ways to greatly speed up the solution using _just-in-time compilation_, which moves the `for` loop into a compiled bit of code (instead of interpreted, as Python code usually is.)\n",
    "\n",
    "If you have some time left, try to download the [Numba](https://numba.pydata.org) module with `pip install numba`, and look into the `numba.jit` function to see if you can accelerate your `poisson_OR_sweep` function and speed up your solutions.  (We'll see another module next week, JAX, which can also do JIT compilation among other features very useful for machine learning.))"
   ]
  }
 ],
 "metadata": {
  "celltoolbar": "Create Assignment",
  "kernelspec": {
   "display_name": "Python 3 (ipykernel)",
   "language": "python",
   "name": "python3"
  },
  "language_info": {
   "codemirror_mode": {
    "name": "ipython",
    "version": 3
   },
   "file_extension": ".py",
   "mimetype": "text/x-python",
   "name": "python",
   "nbconvert_exporter": "python",
   "pygments_lexer": "ipython3",
   "version": "3.9.10"
  }
 },
 "nbformat": 4,
 "nbformat_minor": 5
}
